{
 "cells": [
  {
   "cell_type": "code",
   "execution_count": 2,
   "metadata": {
    "collapsed": true
   },
   "outputs": [],
   "source": [
    "url = r\"http://www.parliament.uk/business/publications/written-questions-answers-statements/written-questions-answers/?page=1&max=20&questiontype=AllQuestions&house=commons%2clords&dept=54\""
   ]
  },
  {
   "cell_type": "code",
   "execution_count": 3,
   "metadata": {
    "collapsed": true
   },
   "outputs": [],
   "source": [
    "from bs4 import BeautifulSoup"
   ]
  },
  {
   "cell_type": "code",
   "execution_count": 5,
   "metadata": {
    "collapsed": true
   },
   "outputs": [],
   "source": [
    "question1 = \"\"\"\n",
    "To ask the Secretary of State for Justice, how much was levied in respect of financial remedies in each key performance indicator designated in respect of the contractual agreement between his Department and G4S Care and Justice Services (UK) Limited at HM Prison Birmingham in each year since 2011.\n",
    "\"\"\"\n",
    "\n",
    "answer1 = \"\"\"\n",
    "Well-run prisons are fundamental to the proper functioning of our justice system, and a vital part of our reform plans. Private providers play an important role in the prison estate. Performance of all providers is closely monitored and we will not hesitate to take action where standards fall short.\n",
    "All private prisons are managed by a full-time, on-site controller. Where a provider fails to meet the expected level of performance, financial remedies can be applied. This ensures that providers are incentivised to properly support the rehabilitation of offenders through a safe, decent and secure regime.\n",
    "The attached table provides a breakdown of financial remedies applied for both HMP Birmingham and HMP Oakwood (HMP Featherstone II was the working name during construction of HMP Oakwood).\n",
    "No financial remedies were applied at either prison in 2011/12. Operation of HMP Birmingham transferred from HM Prison Service to G4S Justice Services in October 2011. HMP Oakwood opened in April 2012.\n",
    "\"\"\""
   ]
  },
  {
   "cell_type": "code",
   "execution_count": 13,
   "metadata": {
    "collapsed": true
   },
   "outputs": [],
   "source": [
    "question2 = \"\"\"\n",
    "To ask the Secretary of State for Justice, how many people have been sentenced to a term in prison for (a) non-payment of council tax, (b) watching television broadcasts without a television licence and (c) tax evasion in each year from 2008-09 to 2014-15.\n",
    "\"\"\"\n",
    "\n",
    "answer2 = \"\"\"\n",
    "The law and penalties in these three areas are different. The Government takes tax evasion very seriously. There is no single definition of “tax evasion” so there are several offences under which those who evade taxes can be prosecuted, with a maximum penalty of up to 7 years for the most serious cases under c) below. Watching television broadcasts without a television licence is also a criminal offence with a maximum penalty of a fine.\n",
    "Non-payment of council tax is not a criminal offence. Where a person fails to pay the council tax after it has been demanded, the local authority may apply to the magistrates’ court for a liability order. Liability orders are granted for the amount owed plus reasonable costs. If they are still not paid the local authority can apply for a warrant committing an individual to prison; an individual cannot be fined for non-payment of council tax.\n",
    "a) The number of people imprisoned following non-payment of council tax in England and Wales, by financial year from 2009/10 to 2014/15 can be viewed in table 1. The magistrates’ courts have been using their centralised case management system since early 2009 so data are only available from 2009/10.\n",
    "b) Immediate custody is not an available sentence for TV licence evasion; the maximum sentence is a fine.\n",
    "c) The number of offenders sentenced to immediate custody at all courts for offences relating to tax evasion, in England & Wales, by financial year from 2008/09 to 2014/15, can be viewed in table 2.\"\"\""
   ]
  },
  {
   "cell_type": "code",
   "execution_count": 14,
   "metadata": {
    "collapsed": true
   },
   "outputs": [],
   "source": [
    "import pandas as pd"
   ]
  },
  {
   "cell_type": "code",
   "execution_count": 15,
   "metadata": {
    "collapsed": false
   },
   "outputs": [],
   "source": [
    "data = [{\"question\": question1, \"answer\": answer1}, {\"question\": question2, \"answer\": answer2}]"
   ]
  },
  {
   "cell_type": "code",
   "execution_count": 18,
   "metadata": {
    "collapsed": false
   },
   "outputs": [],
   "source": [
    "df = pd.DataFrame(data)"
   ]
  },
  {
   "cell_type": "code",
   "execution_count": 19,
   "metadata": {
    "collapsed": false
   },
   "outputs": [],
   "source": [
    "df.to_csv(\"data_format_utf8.csv\", encoding=\"utf-8\")"
   ]
  }
 ],
 "metadata": {
  "kernelspec": {
   "display_name": "Python 2",
   "language": "python",
   "name": "python2"
  },
  "language_info": {
   "codemirror_mode": {
    "name": "ipython",
    "version": 2
   },
   "file_extension": ".py",
   "mimetype": "text/x-python",
   "name": "python",
   "nbconvert_exporter": "python",
   "pygments_lexer": "ipython2",
   "version": "2.7.11"
  }
 },
 "nbformat": 4,
 "nbformat_minor": 0
}
